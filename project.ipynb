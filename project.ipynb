{
 "cells": [
  {
   "cell_type": "code",
   "execution_count": 1,
   "id": "47214ce5",
   "metadata": {},
   "outputs": [],
   "source": [
    "import numpy as np\n",
    "import pandas\n",
    "import random\n",
    "import seaborn as sns\n",
    "import matplotlib.pyplot as plt\n",
    "from sklearn.model_selection import train_test_split\n",
    "from sklearn.preprocessing import MinMaxScaler\n",
    "from PIL import Image\n",
    "from scipy import ndimage\n",
    "from skimage import measure"
   ]
  },
  {
   "cell_type": "code",
   "execution_count": 2,
   "id": "978fa13e",
   "metadata": {},
   "outputs": [],
   "source": [
    "dataf = pandas.read_csv(r'letter-recognition-new.csv')"
   ]
  },
  {
   "cell_type": "code",
   "execution_count": 3,
   "id": "3bedfee6",
   "metadata": {},
   "outputs": [
    {
     "name": "stdout",
     "output_type": "stream",
     "text": [
      "<class 'pandas.core.frame.DataFrame'>\n",
      "RangeIndex: 312 entries, 0 to 311\n",
      "Data columns (total 17 columns):\n",
      " #   Column  Non-Null Count  Dtype  \n",
      "---  ------  --------------  -----  \n",
      " 0   letter  312 non-null    object \n",
      " 1   xbox    312 non-null    float64\n",
      " 2   ybox    312 non-null    float64\n",
      " 3   width   312 non-null    int64  \n",
      " 4   height  312 non-null    int64  \n",
      " 5   onpix   312 non-null    int64  \n",
      " 6   xbar    312 non-null    float64\n",
      " 7   ybar    312 non-null    float64\n",
      " 8   x2bar   312 non-null    float64\n",
      " 9   y2bar   312 non-null    float64\n",
      " 10  xybar   312 non-null    float64\n",
      " 11  x2ybar  312 non-null    float64\n",
      " 12  xy2bar  312 non-null    float64\n",
      " 13  xedge   312 non-null    float64\n",
      " 14  xedgey  312 non-null    int64  \n",
      " 15  yedge   312 non-null    float64\n",
      " 16  yedgex  312 non-null    int64  \n",
      "dtypes: float64(11), int64(5), object(1)\n",
      "memory usage: 41.6+ KB\n"
     ]
    }
   ],
   "source": [
    "dataf.info()"
   ]
  },
  {
   "cell_type": "code",
   "execution_count": 4,
   "id": "809cf1a8",
   "metadata": {},
   "outputs": [
    {
     "data": {
      "text/html": [
       "<div>\n",
       "<style scoped>\n",
       "    .dataframe tbody tr th:only-of-type {\n",
       "        vertical-align: middle;\n",
       "    }\n",
       "\n",
       "    .dataframe tbody tr th {\n",
       "        vertical-align: top;\n",
       "    }\n",
       "\n",
       "    .dataframe thead th {\n",
       "        text-align: right;\n",
       "    }\n",
       "</style>\n",
       "<table border=\"1\" class=\"dataframe\">\n",
       "  <thead>\n",
       "    <tr style=\"text-align: right;\">\n",
       "      <th></th>\n",
       "      <th>xbox</th>\n",
       "      <th>ybox</th>\n",
       "      <th>width</th>\n",
       "      <th>height</th>\n",
       "      <th>onpix</th>\n",
       "      <th>xbar</th>\n",
       "      <th>ybar</th>\n",
       "      <th>x2bar</th>\n",
       "      <th>y2bar</th>\n",
       "      <th>xybar</th>\n",
       "      <th>x2ybar</th>\n",
       "      <th>xy2bar</th>\n",
       "      <th>xedge</th>\n",
       "      <th>xedgey</th>\n",
       "      <th>yedge</th>\n",
       "      <th>yedgex</th>\n",
       "    </tr>\n",
       "  </thead>\n",
       "  <tbody>\n",
       "    <tr>\n",
       "      <th>count</th>\n",
       "      <td>312.000000</td>\n",
       "      <td>312.000000</td>\n",
       "      <td>312.000000</td>\n",
       "      <td>312.000000</td>\n",
       "      <td>312.000000</td>\n",
       "      <td>312.000000</td>\n",
       "      <td>312.000000</td>\n",
       "      <td>312.000000</td>\n",
       "      <td>312.000000</td>\n",
       "      <td>312.000000</td>\n",
       "      <td>312.000000</td>\n",
       "      <td>312.000000</td>\n",
       "      <td>312.000000</td>\n",
       "      <td>312.000000</td>\n",
       "      <td>312.000000</td>\n",
       "      <td>312.000000</td>\n",
       "    </tr>\n",
       "    <tr>\n",
       "      <th>mean</th>\n",
       "      <td>20.750000</td>\n",
       "      <td>22.149038</td>\n",
       "      <td>27.788462</td>\n",
       "      <td>34.483974</td>\n",
       "      <td>485.157051</td>\n",
       "      <td>-0.020730</td>\n",
       "      <td>-0.008531</td>\n",
       "      <td>60.103102</td>\n",
       "      <td>100.375684</td>\n",
       "      <td>0.423682</td>\n",
       "      <td>-43.638966</td>\n",
       "      <td>-32.887206</td>\n",
       "      <td>4.869618</td>\n",
       "      <td>3051.182692</td>\n",
       "      <td>3.205217</td>\n",
       "      <td>2619.051282</td>\n",
       "    </tr>\n",
       "    <tr>\n",
       "      <th>std</th>\n",
       "      <td>2.331112</td>\n",
       "      <td>0.830139</td>\n",
       "      <td>6.563085</td>\n",
       "      <td>3.604178</td>\n",
       "      <td>138.835827</td>\n",
       "      <td>0.056574</td>\n",
       "      <td>0.048748</td>\n",
       "      <td>28.446070</td>\n",
       "      <td>25.612768</td>\n",
       "      <td>7.129068</td>\n",
       "      <td>197.048928</td>\n",
       "      <td>136.895234</td>\n",
       "      <td>1.463951</td>\n",
       "      <td>1039.218465</td>\n",
       "      <td>1.120862</td>\n",
       "      <td>946.159272</td>\n",
       "    </tr>\n",
       "    <tr>\n",
       "      <th>min</th>\n",
       "      <td>12.000000</td>\n",
       "      <td>19.500000</td>\n",
       "      <td>7.000000</td>\n",
       "      <td>27.000000</td>\n",
       "      <td>128.000000</td>\n",
       "      <td>-0.224888</td>\n",
       "      <td>-0.146223</td>\n",
       "      <td>3.468750</td>\n",
       "      <td>49.331395</td>\n",
       "      <td>-19.282680</td>\n",
       "      <td>-732.449438</td>\n",
       "      <td>-468.427609</td>\n",
       "      <td>2.529412</td>\n",
       "      <td>952.000000</td>\n",
       "      <td>0.378378</td>\n",
       "      <td>299.000000</td>\n",
       "    </tr>\n",
       "    <tr>\n",
       "      <th>25%</th>\n",
       "      <td>19.500000</td>\n",
       "      <td>21.500000</td>\n",
       "      <td>24.000000</td>\n",
       "      <td>32.000000</td>\n",
       "      <td>389.750000</td>\n",
       "      <td>-0.047874</td>\n",
       "      <td>-0.021886</td>\n",
       "      <td>40.314128</td>\n",
       "      <td>83.568979</td>\n",
       "      <td>-0.863486</td>\n",
       "      <td>-91.360387</td>\n",
       "      <td>-83.378854</td>\n",
       "      <td>3.990741</td>\n",
       "      <td>2299.250000</td>\n",
       "      <td>2.314286</td>\n",
       "      <td>1869.500000</td>\n",
       "    </tr>\n",
       "    <tr>\n",
       "      <th>50%</th>\n",
       "      <td>21.000000</td>\n",
       "      <td>22.000000</td>\n",
       "      <td>28.000000</td>\n",
       "      <td>35.000000</td>\n",
       "      <td>475.000000</td>\n",
       "      <td>-0.003986</td>\n",
       "      <td>0.000309</td>\n",
       "      <td>56.228209</td>\n",
       "      <td>100.181803</td>\n",
       "      <td>0.460113</td>\n",
       "      <td>4.210870</td>\n",
       "      <td>-8.438834</td>\n",
       "      <td>4.616796</td>\n",
       "      <td>2911.500000</td>\n",
       "      <td>3.270284</td>\n",
       "      <td>2551.000000</td>\n",
       "    </tr>\n",
       "    <tr>\n",
       "      <th>75%</th>\n",
       "      <td>22.500000</td>\n",
       "      <td>22.500000</td>\n",
       "      <td>31.000000</td>\n",
       "      <td>37.000000</td>\n",
       "      <td>578.750000</td>\n",
       "      <td>0.004028</td>\n",
       "      <td>0.010299</td>\n",
       "      <td>80.223598</td>\n",
       "      <td>116.123431</td>\n",
       "      <td>3.083972</td>\n",
       "      <td>34.526696</td>\n",
       "      <td>18.817971</td>\n",
       "      <td>5.474856</td>\n",
       "      <td>3624.250000</td>\n",
       "      <td>4.054826</td>\n",
       "      <td>3353.750000</td>\n",
       "    </tr>\n",
       "    <tr>\n",
       "      <th>max</th>\n",
       "      <td>26.500000</td>\n",
       "      <td>25.000000</td>\n",
       "      <td>44.000000</td>\n",
       "      <td>44.000000</td>\n",
       "      <td>850.000000</td>\n",
       "      <td>0.189990</td>\n",
       "      <td>0.142777</td>\n",
       "      <td>143.595985</td>\n",
       "      <td>169.991228</td>\n",
       "      <td>27.208741</td>\n",
       "      <td>610.756607</td>\n",
       "      <td>371.697751</td>\n",
       "      <td>14.857143</td>\n",
       "      <td>7972.000000</td>\n",
       "      <td>5.828571</td>\n",
       "      <td>5052.000000</td>\n",
       "    </tr>\n",
       "  </tbody>\n",
       "</table>\n",
       "</div>"
      ],
      "text/plain": [
       "             xbox        ybox       width      height       onpix        xbar  \\\n",
       "count  312.000000  312.000000  312.000000  312.000000  312.000000  312.000000   \n",
       "mean    20.750000   22.149038   27.788462   34.483974  485.157051   -0.020730   \n",
       "std      2.331112    0.830139    6.563085    3.604178  138.835827    0.056574   \n",
       "min     12.000000   19.500000    7.000000   27.000000  128.000000   -0.224888   \n",
       "25%     19.500000   21.500000   24.000000   32.000000  389.750000   -0.047874   \n",
       "50%     21.000000   22.000000   28.000000   35.000000  475.000000   -0.003986   \n",
       "75%     22.500000   22.500000   31.000000   37.000000  578.750000    0.004028   \n",
       "max     26.500000   25.000000   44.000000   44.000000  850.000000    0.189990   \n",
       "\n",
       "             ybar       x2bar       y2bar       xybar      x2ybar      xy2bar  \\\n",
       "count  312.000000  312.000000  312.000000  312.000000  312.000000  312.000000   \n",
       "mean    -0.008531   60.103102  100.375684    0.423682  -43.638966  -32.887206   \n",
       "std      0.048748   28.446070   25.612768    7.129068  197.048928  136.895234   \n",
       "min     -0.146223    3.468750   49.331395  -19.282680 -732.449438 -468.427609   \n",
       "25%     -0.021886   40.314128   83.568979   -0.863486  -91.360387  -83.378854   \n",
       "50%      0.000309   56.228209  100.181803    0.460113    4.210870   -8.438834   \n",
       "75%      0.010299   80.223598  116.123431    3.083972   34.526696   18.817971   \n",
       "max      0.142777  143.595985  169.991228   27.208741  610.756607  371.697751   \n",
       "\n",
       "            xedge       xedgey       yedge       yedgex  \n",
       "count  312.000000   312.000000  312.000000   312.000000  \n",
       "mean     4.869618  3051.182692    3.205217  2619.051282  \n",
       "std      1.463951  1039.218465    1.120862   946.159272  \n",
       "min      2.529412   952.000000    0.378378   299.000000  \n",
       "25%      3.990741  2299.250000    2.314286  1869.500000  \n",
       "50%      4.616796  2911.500000    3.270284  2551.000000  \n",
       "75%      5.474856  3624.250000    4.054826  3353.750000  \n",
       "max     14.857143  7972.000000    5.828571  5052.000000  "
      ]
     },
     "execution_count": 4,
     "metadata": {},
     "output_type": "execute_result"
    }
   ],
   "source": [
    "dataf.describe()"
   ]
  },
  {
   "cell_type": "code",
   "execution_count": 5,
   "id": "df2d5c75",
   "metadata": {},
   "outputs": [],
   "source": [
    "y = dataf.pop('letter')"
   ]
  },
  {
   "cell_type": "code",
   "execution_count": 6,
   "id": "bbbc5f03",
   "metadata": {},
   "outputs": [],
   "source": [
    "def norm(df):\n",
    "    norm_df = df.copy()\n",
    "    columns_to_normalize = df.columns\n",
    "\n",
    "    for column in columns_to_normalize:\n",
    "        min_val = norm_df[column].min()\n",
    "        max_val = norm_df[column].max()\n",
    "    \n",
    "        norm_df[column] = (norm_df[column] - min_val) / (max_val - min_val)\n",
    "    return norm_df"
   ]
  },
  {
   "cell_type": "code",
   "execution_count": 7,
   "id": "cf44f55d",
   "metadata": {},
   "outputs": [],
   "source": [
    "dataf_norm = norm(dataf)"
   ]
  },
  {
   "cell_type": "code",
   "execution_count": 8,
   "id": "ce24aa6b",
   "metadata": {},
   "outputs": [
    {
     "data": {
      "text/plain": [
       "<function matplotlib.pyplot.show(close=None, block=None)>"
      ]
     },
     "execution_count": 8,
     "metadata": {},
     "output_type": "execute_result"
    },
    {
     "data": {
      "image/png": "[encoded data removed]",
      "text/plain": [
       "<Figure size 1200x1000 with 2 Axes>"
      ]
     },
     "metadata": {},
     "output_type": "display_data"
    }
   ],
   "source": [
    "plt.figure(figsize=(12,10))\n",
    "sns.heatmap(dataf_norm.corr(), annot=True, cmap=\"coolwarm\", fmt='.2f')\n",
    "plt.show"
   ]
  },
  {
   "cell_type": "code",
   "execution_count": 9,
   "id": "11fa99fe",
   "metadata": {},
   "outputs": [],
   "source": [
    "x_train,x_test,y_train,y_test=train_test_split(dataf_norm,y,test_size=0.15)"
   ]
  },
  {
   "cell_type": "code",
   "execution_count": 10,
   "id": "7cd6b83d",
   "metadata": {},
   "outputs": [
    {
     "data": {
      "text/plain": [
       "0.5957446808510638"
      ]
     },
     "execution_count": 10,
     "metadata": {},
     "output_type": "execute_result"
    }
   ],
   "source": [
    "from sklearn.neighbors import KNeighborsClassifier\n",
    "\n",
    "\n",
    "knn_lib=KNeighborsClassifier(3)\n",
    "knn_lib.fit(x_train, y_train)\n",
    "knn_lib.score(x_test, y_test)"
   ]
  }
 ],
 "metadata": {
  "kernelspec": {
   "display_name": "Python 3 (ipykernel)",
   "language": "python",
   "name": "python3"
  },
  "language_info": {
   "codemirror_mode": {
    "name": "ipython",
    "version": 3
   },
   "file_extension": ".py",
   "mimetype": "text/x-python",
   "name": "python",
   "nbconvert_exporter": "python",
   "pygments_lexer": "ipython3",
   "version": "3.11.7"
  }
 },
 "nbformat": 4,
 "nbformat_minor": 5
}
