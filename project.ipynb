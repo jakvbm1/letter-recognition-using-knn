{
 "cells": [
  {
   "cell_type": "code",
   "execution_count": 1,
   "id": "47214ce5",
   "metadata": {},
   "outputs": [],
   "source": [
    "import numpy as np\n",
    "import pandas\n",
    "import random\n",
    "import seaborn as sns\n",
    "import matplotlib.pyplot as plt\n",
    "from sklearn.model_selection import train_test_split\n",
    "from sklearn.preprocessing import MinMaxScaler\n",
    "from PIL import Image\n",
    "from scipy import ndimage\n",
    "from skimage import measure"
   ]
  },
  {
   "cell_type": "code",
   "execution_count": 2,
   "id": "978fa13e",
   "metadata": {},
   "outputs": [],
   "source": [
    "dataf = pandas.read_csv(r'letter-recognition-new.csv')"
   ]
  },
  {
   "cell_type": "code",
   "execution_count": 3,
   "id": "3bedfee6",
   "metadata": {},
   "outputs": [
    {
     "name": "stdout",
     "output_type": "stream",
     "text": [
      "<class 'pandas.core.frame.DataFrame'>\n",
      "RangeIndex: 103 entries, 0 to 102\n",
      "Data columns (total 17 columns):\n",
      " #   Column  Non-Null Count  Dtype  \n",
      "---  ------  --------------  -----  \n",
      " 0   letter  103 non-null    object \n",
      " 1   xbox    103 non-null    int64  \n",
      " 2   ybox    103 non-null    int64  \n",
      " 3   width   103 non-null    int64  \n",
      " 4   height  103 non-null    int64  \n",
      " 5   onpix   103 non-null    int64  \n",
      " 6   xbar    103 non-null    float64\n",
      " 7   ybar    103 non-null    float64\n",
      " 8   x2bar   103 non-null    float64\n",
      " 9   y2bar   103 non-null    float64\n",
      " 10  xybar   103 non-null    float64\n",
      " 11  x2ybar  103 non-null    float64\n",
      " 12  xy2bar  103 non-null    float64\n",
      " 13  xedge   103 non-null    float64\n",
      " 14  xedgey  103 non-null    int64  \n",
      " 15  yedge   103 non-null    float64\n",
      " 16  yedgex  103 non-null    int64  \n",
      "dtypes: float64(9), int64(7), object(1)\n",
      "memory usage: 13.8+ KB\n"
     ]
    }
   ],
   "source": [
    "dataf.info()"
   ]
  },
  {
   "cell_type": "code",
   "execution_count": 4,
   "id": "809cf1a8",
   "metadata": {},
   "outputs": [
    {
     "data": {
      "text/html": [
       "<div>\n",
       "<style scoped>\n",
       "    .dataframe tbody tr th:only-of-type {\n",
       "        vertical-align: middle;\n",
       "    }\n",
       "\n",
       "    .dataframe tbody tr th {\n",
       "        vertical-align: top;\n",
       "    }\n",
       "\n",
       "    .dataframe thead th {\n",
       "        text-align: right;\n",
       "    }\n",
       "</style>\n",
       "<table border=\"1\" class=\"dataframe\">\n",
       "  <thead>\n",
       "    <tr style=\"text-align: right;\">\n",
       "      <th></th>\n",
       "      <th>xbox</th>\n",
       "      <th>ybox</th>\n",
       "      <th>width</th>\n",
       "      <th>height</th>\n",
       "      <th>onpix</th>\n",
       "      <th>xbar</th>\n",
       "      <th>ybar</th>\n",
       "      <th>x2bar</th>\n",
       "      <th>y2bar</th>\n",
       "      <th>xybar</th>\n",
       "      <th>x2ybar</th>\n",
       "      <th>xy2bar</th>\n",
       "      <th>xedge</th>\n",
       "      <th>xedgey</th>\n",
       "      <th>yedge</th>\n",
       "      <th>yedgex</th>\n",
       "    </tr>\n",
       "  </thead>\n",
       "  <tbody>\n",
       "    <tr>\n",
       "      <th>count</th>\n",
       "      <td>103.000000</td>\n",
       "      <td>103.000000</td>\n",
       "      <td>103.000000</td>\n",
       "      <td>103.000000</td>\n",
       "      <td>103.000000</td>\n",
       "      <td>103.000000</td>\n",
       "      <td>103.000000</td>\n",
       "      <td>103.000000</td>\n",
       "      <td>103.000000</td>\n",
       "      <td>103.000000</td>\n",
       "      <td>103.000000</td>\n",
       "      <td>103.000000</td>\n",
       "      <td>103.000000</td>\n",
       "      <td>103.000000</td>\n",
       "      <td>103.000000</td>\n",
       "      <td>103.000000</td>\n",
       "    </tr>\n",
       "    <tr>\n",
       "      <th>mean</th>\n",
       "      <td>4.378641</td>\n",
       "      <td>2.980583</td>\n",
       "      <td>17.135922</td>\n",
       "      <td>20.679612</td>\n",
       "      <td>200.058252</td>\n",
       "      <td>-0.018486</td>\n",
       "      <td>-0.006687</td>\n",
       "      <td>21.809404</td>\n",
       "      <td>33.039628</td>\n",
       "      <td>0.274856</td>\n",
       "      <td>-8.496939</td>\n",
       "      <td>-7.920455</td>\n",
       "      <td>2.514923</td>\n",
       "      <td>67.902913</td>\n",
       "      <td>2.227976</td>\n",
       "      <td>60.155340</td>\n",
       "    </tr>\n",
       "    <tr>\n",
       "      <th>std</th>\n",
       "      <td>1.935816</td>\n",
       "      <td>1.204408</td>\n",
       "      <td>3.739164</td>\n",
       "      <td>1.738907</td>\n",
       "      <td>57.071648</td>\n",
       "      <td>0.046978</td>\n",
       "      <td>0.045586</td>\n",
       "      <td>9.396190</td>\n",
       "      <td>8.661248</td>\n",
       "      <td>2.317476</td>\n",
       "      <td>42.073837</td>\n",
       "      <td>27.809566</td>\n",
       "      <td>0.690051</td>\n",
       "      <td>18.631364</td>\n",
       "      <td>0.872115</td>\n",
       "      <td>23.547098</td>\n",
       "    </tr>\n",
       "    <tr>\n",
       "      <th>min</th>\n",
       "      <td>0.000000</td>\n",
       "      <td>0.000000</td>\n",
       "      <td>6.000000</td>\n",
       "      <td>18.000000</td>\n",
       "      <td>77.000000</td>\n",
       "      <td>-0.180729</td>\n",
       "      <td>-0.131783</td>\n",
       "      <td>3.688312</td>\n",
       "      <td>19.689922</td>\n",
       "      <td>-6.443333</td>\n",
       "      <td>-162.803077</td>\n",
       "      <td>-94.832880</td>\n",
       "      <td>1.333333</td>\n",
       "      <td>36.000000</td>\n",
       "      <td>0.333333</td>\n",
       "      <td>9.000000</td>\n",
       "    </tr>\n",
       "    <tr>\n",
       "      <th>25%</th>\n",
       "      <td>3.000000</td>\n",
       "      <td>2.000000</td>\n",
       "      <td>15.000000</td>\n",
       "      <td>20.000000</td>\n",
       "      <td>158.500000</td>\n",
       "      <td>-0.040377</td>\n",
       "      <td>-0.023850</td>\n",
       "      <td>16.443610</td>\n",
       "      <td>26.585196</td>\n",
       "      <td>-0.231009</td>\n",
       "      <td>-17.056413</td>\n",
       "      <td>-19.861429</td>\n",
       "      <td>1.981481</td>\n",
       "      <td>53.500000</td>\n",
       "      <td>1.518519</td>\n",
       "      <td>41.000000</td>\n",
       "    </tr>\n",
       "    <tr>\n",
       "      <th>50%</th>\n",
       "      <td>5.000000</td>\n",
       "      <td>3.000000</td>\n",
       "      <td>17.000000</td>\n",
       "      <td>20.000000</td>\n",
       "      <td>198.000000</td>\n",
       "      <td>-0.007808</td>\n",
       "      <td>-0.001842</td>\n",
       "      <td>20.305556</td>\n",
       "      <td>30.593301</td>\n",
       "      <td>0.295276</td>\n",
       "      <td>-1.063981</td>\n",
       "      <td>-2.996835</td>\n",
       "      <td>2.444444</td>\n",
       "      <td>66.000000</td>\n",
       "      <td>2.185185</td>\n",
       "      <td>59.000000</td>\n",
       "    </tr>\n",
       "    <tr>\n",
       "      <th>75%</th>\n",
       "      <td>6.000000</td>\n",
       "      <td>4.000000</td>\n",
       "      <td>19.000000</td>\n",
       "      <td>22.000000</td>\n",
       "      <td>231.000000</td>\n",
       "      <td>0.002147</td>\n",
       "      <td>0.015045</td>\n",
       "      <td>26.643655</td>\n",
       "      <td>38.327108</td>\n",
       "      <td>1.154586</td>\n",
       "      <td>8.501922</td>\n",
       "      <td>3.808143</td>\n",
       "      <td>2.962963</td>\n",
       "      <td>80.000000</td>\n",
       "      <td>2.907407</td>\n",
       "      <td>78.500000</td>\n",
       "    </tr>\n",
       "    <tr>\n",
       "      <th>max</th>\n",
       "      <td>10.000000</td>\n",
       "      <td>5.000000</td>\n",
       "      <td>26.000000</td>\n",
       "      <td>26.000000</td>\n",
       "      <td>377.000000</td>\n",
       "      <td>0.134367</td>\n",
       "      <td>0.103516</td>\n",
       "      <td>54.713528</td>\n",
       "      <td>54.474490</td>\n",
       "      <td>8.040761</td>\n",
       "      <td>151.723982</td>\n",
       "      <td>73.959732</td>\n",
       "      <td>4.333333</td>\n",
       "      <td>117.000000</td>\n",
       "      <td>4.148148</td>\n",
       "      <td>112.000000</td>\n",
       "    </tr>\n",
       "  </tbody>\n",
       "</table>\n",
       "</div>"
      ],
      "text/plain": [
       "             xbox        ybox       width      height       onpix        xbar  \\\n",
       "count  103.000000  103.000000  103.000000  103.000000  103.000000  103.000000   \n",
       "mean     4.378641    2.980583   17.135922   20.679612  200.058252   -0.018486   \n",
       "std      1.935816    1.204408    3.739164    1.738907   57.071648    0.046978   \n",
       "min      0.000000    0.000000    6.000000   18.000000   77.000000   -0.180729   \n",
       "25%      3.000000    2.000000   15.000000   20.000000  158.500000   -0.040377   \n",
       "50%      5.000000    3.000000   17.000000   20.000000  198.000000   -0.007808   \n",
       "75%      6.000000    4.000000   19.000000   22.000000  231.000000    0.002147   \n",
       "max     10.000000    5.000000   26.000000   26.000000  377.000000    0.134367   \n",
       "\n",
       "             ybar       x2bar       y2bar       xybar      x2ybar      xy2bar  \\\n",
       "count  103.000000  103.000000  103.000000  103.000000  103.000000  103.000000   \n",
       "mean    -0.006687   21.809404   33.039628    0.274856   -8.496939   -7.920455   \n",
       "std      0.045586    9.396190    8.661248    2.317476   42.073837   27.809566   \n",
       "min     -0.131783    3.688312   19.689922   -6.443333 -162.803077  -94.832880   \n",
       "25%     -0.023850   16.443610   26.585196   -0.231009  -17.056413  -19.861429   \n",
       "50%     -0.001842   20.305556   30.593301    0.295276   -1.063981   -2.996835   \n",
       "75%      0.015045   26.643655   38.327108    1.154586    8.501922    3.808143   \n",
       "max      0.103516   54.713528   54.474490    8.040761  151.723982   73.959732   \n",
       "\n",
       "            xedge      xedgey       yedge      yedgex  \n",
       "count  103.000000  103.000000  103.000000  103.000000  \n",
       "mean     2.514923   67.902913    2.227976   60.155340  \n",
       "std      0.690051   18.631364    0.872115   23.547098  \n",
       "min      1.333333   36.000000    0.333333    9.000000  \n",
       "25%      1.981481   53.500000    1.518519   41.000000  \n",
       "50%      2.444444   66.000000    2.185185   59.000000  \n",
       "75%      2.962963   80.000000    2.907407   78.500000  \n",
       "max      4.333333  117.000000    4.148148  112.000000  "
      ]
     },
     "execution_count": 4,
     "metadata": {},
     "output_type": "execute_result"
    }
   ],
   "source": [
    "dataf.describe()"
   ]
  },
  {
   "cell_type": "code",
   "execution_count": 6,
   "id": "df2d5c75",
   "metadata": {},
   "outputs": [],
   "source": [
    "y = dataf.pop('letter')"
   ]
  },
  {
   "cell_type": "code",
   "execution_count": 8,
   "id": "bbbc5f03",
   "metadata": {},
   "outputs": [],
   "source": [
    "def norm(df):\n",
    "    norm_df = df.copy()\n",
    "    columns_to_normalize = df.columns\n",
    "\n",
    "    for column in columns_to_normalize:\n",
    "        min_val = norm_df[column].min()\n",
    "        max_val = norm_df[column].max()\n",
    "    \n",
    "        norm_df[column] = (norm_df[column] - min_val) / (max_val - min_val)\n",
    "    return norm_df"
   ]
  },
  {
   "cell_type": "code",
   "execution_count": 9,
   "id": "cf44f55d",
   "metadata": {},
   "outputs": [],
   "source": [
    "dataf_norm = norm(dataf)"
   ]
  },
  {
   "cell_type": "code",
   "execution_count": 10,
   "id": "ce24aa6b",
   "metadata": {},
   "outputs": [
    {
     "data": {
      "text/plain": [
       "<function matplotlib.pyplot.show(close=None, block=None)>"
      ]
     },
     "execution_count": 10,
     "metadata": {},
     "output_type": "execute_result"
    },
    {
     "data": {
      "image/png": "[encoded data removed]",
      "text/plain": [
       "<Figure size 1200x1000 with 2 Axes>"
      ]
     },
     "metadata": {},
     "output_type": "display_data"
    }
   ],
   "source": [
    "plt.figure(figsize=(12,10))\n",
    "sns.heatmap(dataf_norm.corr(), annot=True, cmap=\"coolwarm\", fmt='.2f')\n",
    "plt.show"
   ]
  },
  {
   "cell_type": "code",
   "execution_count": 12,
   "id": "11fa99fe",
   "metadata": {},
   "outputs": [],
   "source": [
    "x_train,x_test,y_train,y_test=train_test_split(dataf_norm,y,test_size=0.15)"
   ]
  },
  {
   "cell_type": "code",
   "execution_count": 26,
   "id": "7cd6b83d",
   "metadata": {},
   "outputs": [
    {
     "data": {
      "text/plain": [
       "0.25"
      ]
     },
     "execution_count": 26,
     "metadata": {},
     "output_type": "execute_result"
    }
   ],
   "source": [
    "from sklearn.neighbors import KNeighborsClassifier\n",
    "\n",
    "\n",
    "knn_lib=KNeighborsClassifier(3)\n",
    "knn_lib.fit(x_train, y_train)\n",
    "knn_lib.score(x_test, y_test)"
   ]
  }
 ],
 "metadata": {
  "kernelspec": {
   "display_name": "Python 3 (ipykernel)",
   "language": "python",
   "name": "python3"
  },
  "language_info": {
   "codemirror_mode": {
    "name": "ipython",
    "version": 3
   },
   "file_extension": ".py",
   "mimetype": "text/x-python",
   "name": "python",
   "nbconvert_exporter": "python",
   "pygments_lexer": "ipython3",
   "version": "3.11.7"
  }
 },
 "nbformat": 4,
 "nbformat_minor": 5
}
