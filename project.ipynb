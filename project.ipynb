{
 "cells": [
  {
   "cell_type": "code",
   "execution_count": null,
   "id": "47214ce5",
   "metadata": {},
   "outputs": [],
   "source": [
    "import numpy as np\n",
    "import pandas\n",
    "import random\n",
    "import seaborn as sns\n",
    "import matplotlib.pyplot as plt\n",
    "from sklearn.model_selection import train_test_split\n",
    "from sklearn.preprocessing import MinMaxScaler\n",
    "from PIL import Image\n",
    "from scipy import ndimage\n",
    "from skimage import measure"
   ]
  },
  {
   "cell_type": "code",
   "execution_count": null,
   "id": "978fa13e",
   "metadata": {},
   "outputs": [],
   "source": [
    "dataf = pandas.read_csv(r'letter-recognition-new.csv')"
   ]
  },
  {
   "cell_type": "code",
   "execution_count": null,
   "id": "3bedfee6",
   "metadata": {},
   "outputs": [],
   "source": [
    "dataf.info()"
   ]
  },
  {
   "cell_type": "code",
   "execution_count": null,
   "id": "809cf1a8",
   "metadata": {},
   "outputs": [],
   "source": [
    "dataf.describe()"
   ]
  },
  {
   "cell_type": "code",
   "execution_count": null,
   "id": "df2d5c75",
   "metadata": {},
   "outputs": [],
   "source": [
    "y = dataf.pop('letter')"
   ]
  },
  {
   "cell_type": "code",
   "execution_count": null,
   "id": "bbbc5f03",
   "metadata": {},
   "outputs": [],
   "source": [
    "def norm(df):\n",
    "    norm_df = df.copy()\n",
    "    columns_to_normalize = df.columns\n",
    "\n",
    "    for column in columns_to_normalize:\n",
    "        min_val = norm_df[column].min()\n",
    "        max_val = norm_df[column].max()\n",
    "    \n",
    "        norm_df[column] = (norm_df[column] - min_val) / (max_val - min_val)\n",
    "    return norm_df"
   ]
  },
  {
   "cell_type": "code",
   "execution_count": null,
   "id": "cf44f55d",
   "metadata": {},
   "outputs": [],
   "source": [
    "dataf_norm = norm(dataf)"
   ]
  },
  {
   "cell_type": "code",
   "execution_count": null,
   "id": "ce24aa6b",
   "metadata": {},
   "outputs": [],
   "source": [
    "plt.figure(figsize=(12,10))\n",
    "sns.heatmap(dataf_norm.corr(), annot=True, cmap=\"coolwarm\", fmt='.2f')\n",
    "plt.show"
   ]
  },
  {
   "cell_type": "code",
   "execution_count": null,
   "id": "11fa99fe",
   "metadata": {},
   "outputs": [],
   "source": [
    "x_train,x_test,y_train,y_test=train_test_split(dataf_norm,y,test_size=0.2)"
   ]
  },
  {
   "cell_type": "code",
   "execution_count": null,
   "id": "302d7e37",
   "metadata": {},
   "outputs": [],
   "source": [
    "from sklearn.neighbors import KNeighborsClassifier\n",
    "#looking for optimal k\n",
    "best_k = 1\n",
    "for k in range(2, 21):\n",
    "    test_knn = KNeighborsClassifier(k)\n",
    "    best_knn = KNeighborsClassifier(best_k)\n",
    "    \n",
    "    test_knn.fit(x_train, y_train)\n",
    "    best_knn.fit(x_train, y_train)\n",
    "    \n",
    "    if test_knn.score(x_test, y_test) > best_knn.score(x_test, y_test):\n",
    "        best_k = k\n",
    "        \n",
    "print(best_k)"
   ]
  },
  {
   "cell_type": "code",
   "execution_count": null,
   "id": "16e11833",
   "metadata": {},
   "outputs": [],
   "source": [
    "results = []\n",
    "\n",
    "for i in range(1,21):\n",
    "    knnTest = KNeighborsClassifier(i)\n",
    "    knnTest.fit(x_train, y_train)\n",
    "    result = knnTest.score(x_test, y_test)\n",
    "    results.append(result)"
   ]
  },
  {
   "cell_type": "code",
   "execution_count": null,
   "id": "66d9e891",
   "metadata": {},
   "outputs": [],
   "source": [
    "arguments = [i for i in range(1,21)]\n",
    "plt.figure(figsize=(10, 5))\n",
    "plt.plot(arguments, results, label = 'Dokładność', color = 'blue')\n",
    "plt.title('Zależność dokładności modelu do ilości sąsiadów dla algorytmu kNN')\n",
    "plt.xlabel('Ilość sąsiadów k')\n",
    "plt.ylabel('Dokładność')\n",
    "plt.legend()\n",
    "plt.grid(True)\n",
    "plt.show()"
   ]
  },
  {
   "cell_type": "code",
   "execution_count": null,
   "id": "7cd6b83d",
   "metadata": {},
   "outputs": [],
   "source": [
    "from sklearn.neighbors import KNeighborsClassifier\n",
    "\n",
    "\n",
    "knn_lib=KNeighborsClassifier(best_k)\n",
    "knn_lib.fit(x_train, y_train)\n",
    "knn_lib.score(x_test, y_test)"
   ]
  },
  {
   "cell_type": "code",
   "execution_count": null,
   "id": "3efa987b",
   "metadata": {},
   "outputs": [],
   "source": [
    "args = []\n",
    "accs = []\n",
    "for i in range(100):\n",
    "    args.append(i)\n",
    "    xt, xte, yt, yte = train_test_split(dataf_norm,y,test_size=0.2)\n",
    "    knn = KNeighborsClassifier(6)\n",
    "    knn.fit(xt, yt)\n",
    "    accs.append(knn.score(xte, yte))"
   ]
  },
  {
   "cell_type": "code",
   "execution_count": null,
   "id": "2bed8692",
   "metadata": {},
   "outputs": [],
   "source": [
    "plt.figure(figsize=(10, 5))\n",
    "plt.plot(args, accs, label = 'Dokładność dla danej próby', color = 'blue')\n",
    "plt.axhline(np.mean(accs), label = \"Średnia dokładność\", color = 'red', linestyle = 'dashed')\n",
    "plt.title('Wartości dokładności dla 100 prób')\n",
    "plt.xlabel('Numer próby')\n",
    "plt.ylabel('Dokładność')\n",
    "plt.legend()\n",
    "plt.grid(True)\n",
    "plt.show()"
   ]
  },
  {
   "cell_type": "code",
   "execution_count": null,
   "id": "58ec4359",
   "metadata": {},
   "outputs": [],
   "source": []
  }
 ],
 "metadata": {
  "kernelspec": {
   "display_name": "Python 3 (ipykernel)",
   "language": "python",
   "name": "python3"
  },
  "language_info": {
   "codemirror_mode": {
    "name": "ipython",
    "version": 3
   },
   "file_extension": ".py",
   "mimetype": "text/x-python",
   "name": "python",
   "nbconvert_exporter": "python",
   "pygments_lexer": "ipython3",
   "version": "3.11.7"
  }
 },
 "nbformat": 4,
 "nbformat_minor": 5
}
