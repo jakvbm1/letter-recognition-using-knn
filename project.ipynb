{
 "cells": [
  {
   "cell_type": "code",
   "execution_count": 1,
   "id": "47214ce5",
   "metadata": {},
   "outputs": [],
   "source": [
    "import numpy as np\n",
    "import pandas\n",
    "import random\n",
    "import seaborn as sns\n",
    "import matplotlib.pyplot as plt\n",
    "from sklearn.model_selection import train_test_split\n",
    "from sklearn.preprocessing import MinMaxScaler\n",
    "from PIL import Image\n",
    "from scipy import ndimage\n",
    "from skimage import measure"
   ]
  },
  {
   "cell_type": "code",
   "execution_count": 2,
   "id": "978fa13e",
   "metadata": {},
   "outputs": [],
   "source": [
    "dataf = pandas.read_csv(r'letter-recognition-new.csv')"
   ]
  },
  {
   "cell_type": "code",
   "execution_count": 3,
   "id": "3bedfee6",
   "metadata": {},
   "outputs": [
    {
     "name": "stdout",
     "output_type": "stream",
     "text": [
      "<class 'pandas.core.frame.DataFrame'>\n",
      "RangeIndex: 312 entries, 0 to 311\n",
      "Data columns (total 17 columns):\n",
      " #   Column  Non-Null Count  Dtype  \n",
      "---  ------  --------------  -----  \n",
      " 0   letter  312 non-null    object \n",
      " 1   xbox    312 non-null    float64\n",
      " 2   ybox    312 non-null    float64\n",
      " 3   width   312 non-null    int64  \n",
      " 4   height  312 non-null    int64  \n",
      " 5   onpix   312 non-null    int64  \n",
      " 6   xbar    312 non-null    float64\n",
      " 7   ybar    312 non-null    float64\n",
      " 8   x2bar   312 non-null    float64\n",
      " 9   y2bar   312 non-null    float64\n",
      " 10  xybar   312 non-null    float64\n",
      " 11  x2ybar  312 non-null    float64\n",
      " 12  xy2bar  312 non-null    float64\n",
      " 13  xedge   312 non-null    float64\n",
      " 14  xedgey  312 non-null    int64  \n",
      " 15  yedge   312 non-null    float64\n",
      " 16  yedgex  312 non-null    int64  \n",
      "dtypes: float64(11), int64(5), object(1)\n",
      "memory usage: 41.6+ KB\n"
     ]
    }
   ],
   "source": [
    "dataf.info()"
   ]
  },
  {
   "cell_type": "code",
   "execution_count": 4,
   "id": "809cf1a8",
   "metadata": {},
   "outputs": [
    {
     "data": {
      "text/html": [
       "<div>\n",
       "<style scoped>\n",
       "    .dataframe tbody tr th:only-of-type {\n",
       "        vertical-align: middle;\n",
       "    }\n",
       "\n",
       "    .dataframe tbody tr th {\n",
       "        vertical-align: top;\n",
       "    }\n",
       "\n",
       "    .dataframe thead th {\n",
       "        text-align: right;\n",
       "    }\n",
       "</style>\n",
       "<table border=\"1\" class=\"dataframe\">\n",
       "  <thead>\n",
       "    <tr style=\"text-align: right;\">\n",
       "      <th></th>\n",
       "      <th>xbox</th>\n",
       "      <th>ybox</th>\n",
       "      <th>width</th>\n",
       "      <th>height</th>\n",
       "      <th>onpix</th>\n",
       "      <th>xbar</th>\n",
       "      <th>ybar</th>\n",
       "      <th>x2bar</th>\n",
       "      <th>y2bar</th>\n",
       "      <th>xybar</th>\n",
       "      <th>x2ybar</th>\n",
       "      <th>xy2bar</th>\n",
       "      <th>xedge</th>\n",
       "      <th>xedgey</th>\n",
       "      <th>yedge</th>\n",
       "      <th>yedgex</th>\n",
       "    </tr>\n",
       "  </thead>\n",
       "  <tbody>\n",
       "    <tr>\n",
       "      <th>count</th>\n",
       "      <td>312.000000</td>\n",
       "      <td>312.000000</td>\n",
       "      <td>312.000000</td>\n",
       "      <td>312.000000</td>\n",
       "      <td>312.000000</td>\n",
       "      <td>312.000000</td>\n",
       "      <td>312.000000</td>\n",
       "      <td>312.000000</td>\n",
       "      <td>312.000000</td>\n",
       "      <td>312.000000</td>\n",
       "      <td>312.000000</td>\n",
       "      <td>312.000000</td>\n",
       "      <td>312.000000</td>\n",
       "      <td>312.000000</td>\n",
       "      <td>312.000000</td>\n",
       "      <td>312.000000</td>\n",
       "    </tr>\n",
       "    <tr>\n",
       "      <th>mean</th>\n",
       "      <td>20.799679</td>\n",
       "      <td>22.120192</td>\n",
       "      <td>22.298077</td>\n",
       "      <td>29.490385</td>\n",
       "      <td>239.487179</td>\n",
       "      <td>-0.033962</td>\n",
       "      <td>-0.011522</td>\n",
       "      <td>52.614223</td>\n",
       "      <td>89.025159</td>\n",
       "      <td>1.235632</td>\n",
       "      <td>-44.177597</td>\n",
       "      <td>-38.330246</td>\n",
       "      <td>2.508851</td>\n",
       "      <td>1183.756410</td>\n",
       "      <td>1.260679</td>\n",
       "      <td>881.759615</td>\n",
       "    </tr>\n",
       "    <tr>\n",
       "      <th>std</th>\n",
       "      <td>2.323672</td>\n",
       "      <td>0.802414</td>\n",
       "      <td>6.551129</td>\n",
       "      <td>3.547551</td>\n",
       "      <td>82.382723</td>\n",
       "      <td>0.085824</td>\n",
       "      <td>0.058182</td>\n",
       "      <td>28.556211</td>\n",
       "      <td>26.024969</td>\n",
       "      <td>7.196840</td>\n",
       "      <td>160.420290</td>\n",
       "      <td>124.900283</td>\n",
       "      <td>1.692701</td>\n",
       "      <td>448.919867</td>\n",
       "      <td>0.467147</td>\n",
       "      <td>334.589939</td>\n",
       "    </tr>\n",
       "    <tr>\n",
       "      <th>min</th>\n",
       "      <td>12.000000</td>\n",
       "      <td>19.000000</td>\n",
       "      <td>2.000000</td>\n",
       "      <td>23.000000</td>\n",
       "      <td>69.000000</td>\n",
       "      <td>-0.280000</td>\n",
       "      <td>-0.193548</td>\n",
       "      <td>0.652174</td>\n",
       "      <td>35.968121</td>\n",
       "      <td>-23.211538</td>\n",
       "      <td>-579.053363</td>\n",
       "      <td>-386.151316</td>\n",
       "      <td>1.185185</td>\n",
       "      <td>564.000000</td>\n",
       "      <td>0.090909</td>\n",
       "      <td>66.000000</td>\n",
       "    </tr>\n",
       "    <tr>\n",
       "      <th>25%</th>\n",
       "      <td>19.500000</td>\n",
       "      <td>22.000000</td>\n",
       "      <td>19.000000</td>\n",
       "      <td>27.750000</td>\n",
       "      <td>183.750000</td>\n",
       "      <td>-0.076480</td>\n",
       "      <td>-0.026191</td>\n",
       "      <td>32.652961</td>\n",
       "      <td>70.820402</td>\n",
       "      <td>-0.528678</td>\n",
       "      <td>-104.683115</td>\n",
       "      <td>-111.472895</td>\n",
       "      <td>1.902709</td>\n",
       "      <td>836.000000</td>\n",
       "      <td>0.875000</td>\n",
       "      <td>609.500000</td>\n",
       "    </tr>\n",
       "    <tr>\n",
       "      <th>50%</th>\n",
       "      <td>21.000000</td>\n",
       "      <td>22.000000</td>\n",
       "      <td>23.000000</td>\n",
       "      <td>30.000000</td>\n",
       "      <td>229.500000</td>\n",
       "      <td>-0.008145</td>\n",
       "      <td>-0.003661</td>\n",
       "      <td>47.927029</td>\n",
       "      <td>85.166825</td>\n",
       "      <td>0.684491</td>\n",
       "      <td>-1.393637</td>\n",
       "      <td>-10.182555</td>\n",
       "      <td>2.195238</td>\n",
       "      <td>1140.500000</td>\n",
       "      <td>1.290995</td>\n",
       "      <td>878.000000</td>\n",
       "    </tr>\n",
       "    <tr>\n",
       "      <th>75%</th>\n",
       "      <td>22.500000</td>\n",
       "      <td>22.500000</td>\n",
       "      <td>26.000000</td>\n",
       "      <td>32.000000</td>\n",
       "      <td>299.500000</td>\n",
       "      <td>0.003122</td>\n",
       "      <td>0.010583</td>\n",
       "      <td>74.285454</td>\n",
       "      <td>105.952899</td>\n",
       "      <td>5.611994</td>\n",
       "      <td>24.777666</td>\n",
       "      <td>11.423554</td>\n",
       "      <td>2.666667</td>\n",
       "      <td>1379.250000</td>\n",
       "      <td>1.600000</td>\n",
       "      <td>1135.500000</td>\n",
       "    </tr>\n",
       "    <tr>\n",
       "      <th>max</th>\n",
       "      <td>27.000000</td>\n",
       "      <td>24.500000</td>\n",
       "      <td>41.000000</td>\n",
       "      <td>41.000000</td>\n",
       "      <td>457.000000</td>\n",
       "      <td>0.311494</td>\n",
       "      <td>0.201299</td>\n",
       "      <td>133.152256</td>\n",
       "      <td>164.317308</td>\n",
       "      <td>24.776675</td>\n",
       "      <td>466.047249</td>\n",
       "      <td>355.161137</td>\n",
       "      <td>17.000000</td>\n",
       "      <td>3158.000000</td>\n",
       "      <td>2.300000</td>\n",
       "      <td>1648.000000</td>\n",
       "    </tr>\n",
       "  </tbody>\n",
       "</table>\n",
       "</div>"
      ],
      "text/plain": [
       "             xbox        ybox       width      height       onpix        xbar  \\\n",
       "count  312.000000  312.000000  312.000000  312.000000  312.000000  312.000000   \n",
       "mean    20.799679   22.120192   22.298077   29.490385  239.487179   -0.033962   \n",
       "std      2.323672    0.802414    6.551129    3.547551   82.382723    0.085824   \n",
       "min     12.000000   19.000000    2.000000   23.000000   69.000000   -0.280000   \n",
       "25%     19.500000   22.000000   19.000000   27.750000  183.750000   -0.076480   \n",
       "50%     21.000000   22.000000   23.000000   30.000000  229.500000   -0.008145   \n",
       "75%     22.500000   22.500000   26.000000   32.000000  299.500000    0.003122   \n",
       "max     27.000000   24.500000   41.000000   41.000000  457.000000    0.311494   \n",
       "\n",
       "             ybar       x2bar       y2bar       xybar      x2ybar      xy2bar  \\\n",
       "count  312.000000  312.000000  312.000000  312.000000  312.000000  312.000000   \n",
       "mean    -0.011522   52.614223   89.025159    1.235632  -44.177597  -38.330246   \n",
       "std      0.058182   28.556211   26.024969    7.196840  160.420290  124.900283   \n",
       "min     -0.193548    0.652174   35.968121  -23.211538 -579.053363 -386.151316   \n",
       "25%     -0.026191   32.652961   70.820402   -0.528678 -104.683115 -111.472895   \n",
       "50%     -0.003661   47.927029   85.166825    0.684491   -1.393637  -10.182555   \n",
       "75%      0.010583   74.285454  105.952899    5.611994   24.777666   11.423554   \n",
       "max      0.201299  133.152256  164.317308   24.776675  466.047249  355.161137   \n",
       "\n",
       "            xedge       xedgey       yedge       yedgex  \n",
       "count  312.000000   312.000000  312.000000   312.000000  \n",
       "mean     2.508851  1183.756410    1.260679   881.759615  \n",
       "std      1.692701   448.919867    0.467147   334.589939  \n",
       "min      1.185185   564.000000    0.090909    66.000000  \n",
       "25%      1.902709   836.000000    0.875000   609.500000  \n",
       "50%      2.195238  1140.500000    1.290995   878.000000  \n",
       "75%      2.666667  1379.250000    1.600000  1135.500000  \n",
       "max     17.000000  3158.000000    2.300000  1648.000000  "
      ]
     },
     "execution_count": 4,
     "metadata": {},
     "output_type": "execute_result"
    }
   ],
   "source": [
    "dataf.describe()"
   ]
  },
  {
   "cell_type": "code",
   "execution_count": 5,
   "id": "df2d5c75",
   "metadata": {},
   "outputs": [],
   "source": [
    "y = dataf.pop('letter')"
   ]
  },
  {
   "cell_type": "code",
   "execution_count": 6,
   "id": "bbbc5f03",
   "metadata": {},
   "outputs": [],
   "source": [
    "def norm(df):\n",
    "    norm_df = df.copy()\n",
    "    columns_to_normalize = df.columns\n",
    "\n",
    "    for column in columns_to_normalize:\n",
    "        min_val = norm_df[column].min()\n",
    "        max_val = norm_df[column].max()\n",
    "    \n",
    "        norm_df[column] = (norm_df[column] - min_val) / (max_val - min_val)\n",
    "    return norm_df"
   ]
  },
  {
   "cell_type": "code",
   "execution_count": 7,
   "id": "cf44f55d",
   "metadata": {},
   "outputs": [],
   "source": [
    "dataf_norm = norm(dataf)"
   ]
  },
  {
   "cell_type": "code",
   "execution_count": 8,
   "id": "ce24aa6b",
   "metadata": {},
   "outputs": [
    {
     "data": {
      "text/plain": [
       "<function matplotlib.pyplot.show(close=None, block=None)>"
      ]
     },
     "execution_count": 8,
     "metadata": {},
     "output_type": "execute_result"
    },
    {
     "data": {
      "image/png": "[encoded data removed]",
      "text/plain": [
       "<Figure size 1200x1000 with 2 Axes>"
      ]
     },
     "metadata": {},
     "output_type": "display_data"
    }
   ],
   "source": [
    "plt.figure(figsize=(12,10))\n",
    "sns.heatmap(dataf_norm.corr(), annot=True, cmap=\"coolwarm\", fmt='.2f')\n",
    "plt.show"
   ]
  },
  {
   "cell_type": "code",
   "execution_count": 9,
   "id": "11fa99fe",
   "metadata": {},
   "outputs": [],
   "source": [
    "x_train,x_test,y_train,y_test=train_test_split(dataf_norm,y,test_size=0.2)"
   ]
  },
  {
   "cell_type": "code",
   "execution_count": 10,
   "id": "302d7e37",
   "metadata": {},
   "outputs": [
    {
     "name": "stdout",
     "output_type": "stream",
     "text": [
      "1\n"
     ]
    }
   ],
   "source": [
    "from sklearn.neighbors import KNeighborsClassifier\n",
    "#looking for optimal k\n",
    "best_k = 1\n",
    "for k in range(2, 10):\n",
    "    test_knn = KNeighborsClassifier(k)\n",
    "    best_knn = KNeighborsClassifier(best_k)\n",
    "    \n",
    "    test_knn.fit(x_train, y_train)\n",
    "    best_knn.fit(x_train, y_train)\n",
    "    \n",
    "    if test_knn.score(x_test, y_test) > best_knn.score(x_test, y_test):\n",
    "        best_k = k\n",
    "        \n",
    "print(best_k)"
   ]
  },
  {
   "cell_type": "code",
   "execution_count": 11,
   "id": "7cd6b83d",
   "metadata": {},
   "outputs": [
    {
     "data": {
      "text/plain": [
       "0.7777777777777778"
      ]
     },
     "execution_count": 11,
     "metadata": {},
     "output_type": "execute_result"
    }
   ],
   "source": [
    "from sklearn.neighbors import KNeighborsClassifier\n",
    "\n",
    "\n",
    "knn_lib=KNeighborsClassifier(best_k)\n",
    "knn_lib.fit(x_train, y_train)\n",
    "knn_lib.score(x_test, y_test)"
   ]
  },
  {
   "cell_type": "code",
   "execution_count": null,
   "id": "3efa987b",
   "metadata": {},
   "outputs": [],
   "source": []
  },
  {
   "cell_type": "code",
   "execution_count": null,
   "id": "2bed8692",
   "metadata": {},
   "outputs": [],
   "source": []
  }
 ],
 "metadata": {
  "kernelspec": {
   "display_name": "Python 3 (ipykernel)",
   "language": "python",
   "name": "python3"
  },
  "language_info": {
   "codemirror_mode": {
    "name": "ipython",
    "version": 3
   },
   "file_extension": ".py",
   "mimetype": "text/x-python",
   "name": "python",
   "nbconvert_exporter": "python",
   "pygments_lexer": "ipython3",
   "version": "3.11.7"
  }
 },
 "nbformat": 4,
 "nbformat_minor": 5
}
