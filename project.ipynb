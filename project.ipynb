{
 "cells": [
  {
   "cell_type": "code",
   "execution_count": 1,
   "id": "47214ce5",
   "metadata": {},
   "outputs": [],
   "source": [
    "import numpy as np\n",
    "import pandas\n",
    "import random\n",
    "import seaborn as sns\n",
    "import matplotlib.pyplot as plt\n",
    "from sklearn.model_selection import train_test_split\n",
    "from sklearn.preprocessing import MinMaxScaler\n",
    "from PIL import Image\n",
    "from scipy import ndimage\n",
    "from skimage import measure"
   ]
  },
  {
   "cell_type": "code",
   "execution_count": 2,
   "id": "978fa13e",
   "metadata": {},
   "outputs": [],
   "source": [
    "dataf = pandas.read_csv(r'letter-recognition-new.csv')"
   ]
  },
  {
   "cell_type": "code",
   "execution_count": 3,
   "id": "3bedfee6",
   "metadata": {},
   "outputs": [
    {
     "name": "stdout",
     "output_type": "stream",
     "text": [
      "<class 'pandas.core.frame.DataFrame'>\n",
      "RangeIndex: 312 entries, 0 to 311\n",
      "Data columns (total 17 columns):\n",
      " #   Column  Non-Null Count  Dtype  \n",
      "---  ------  --------------  -----  \n",
      " 0   letter  312 non-null    object \n",
      " 1   xbox    312 non-null    float64\n",
      " 2   ybox    312 non-null    float64\n",
      " 3   width   312 non-null    int64  \n",
      " 4   height  312 non-null    int64  \n",
      " 5   onpix   312 non-null    int64  \n",
      " 6   xbar    312 non-null    float64\n",
      " 7   ybar    312 non-null    float64\n",
      " 8   x2bar   312 non-null    float64\n",
      " 9   y2bar   312 non-null    float64\n",
      " 10  xybar   312 non-null    float64\n",
      " 11  x2ybar  312 non-null    float64\n",
      " 12  xy2bar  312 non-null    float64\n",
      " 13  xedge   312 non-null    float64\n",
      " 14  xedgey  312 non-null    int64  \n",
      " 15  yedge   312 non-null    float64\n",
      " 16  yedgex  312 non-null    int64  \n",
      "dtypes: float64(11), int64(5), object(1)\n",
      "memory usage: 41.6+ KB\n"
     ]
    }
   ],
   "source": [
    "dataf.info()"
   ]
  },
  {
   "cell_type": "code",
   "execution_count": 4,
   "id": "809cf1a8",
   "metadata": {},
   "outputs": [
    {
     "data": {
      "text/html": [
       "<div>\n",
       "<style scoped>\n",
       "    .dataframe tbody tr th:only-of-type {\n",
       "        vertical-align: middle;\n",
       "    }\n",
       "\n",
       "    .dataframe tbody tr th {\n",
       "        vertical-align: top;\n",
       "    }\n",
       "\n",
       "    .dataframe thead th {\n",
       "        text-align: right;\n",
       "    }\n",
       "</style>\n",
       "<table border=\"1\" class=\"dataframe\">\n",
       "  <thead>\n",
       "    <tr style=\"text-align: right;\">\n",
       "      <th></th>\n",
       "      <th>xbox</th>\n",
       "      <th>ybox</th>\n",
       "      <th>width</th>\n",
       "      <th>height</th>\n",
       "      <th>onpix</th>\n",
       "      <th>xbar</th>\n",
       "      <th>ybar</th>\n",
       "      <th>x2bar</th>\n",
       "      <th>y2bar</th>\n",
       "      <th>xybar</th>\n",
       "      <th>x2ybar</th>\n",
       "      <th>xy2bar</th>\n",
       "      <th>xedge</th>\n",
       "      <th>xedgey</th>\n",
       "      <th>yedge</th>\n",
       "      <th>yedgex</th>\n",
       "    </tr>\n",
       "  </thead>\n",
       "  <tbody>\n",
       "    <tr>\n",
       "      <th>count</th>\n",
       "      <td>312.000000</td>\n",
       "      <td>312.000000</td>\n",
       "      <td>312.000000</td>\n",
       "      <td>312.000000</td>\n",
       "      <td>312.000000</td>\n",
       "      <td>312.000000</td>\n",
       "      <td>312.000000</td>\n",
       "      <td>312.000000</td>\n",
       "      <td>312.000000</td>\n",
       "      <td>312.000000</td>\n",
       "      <td>312.000000</td>\n",
       "      <td>312.000000</td>\n",
       "      <td>312.000000</td>\n",
       "      <td>312.000000</td>\n",
       "      <td>312.000000</td>\n",
       "      <td>312.000000</td>\n",
       "    </tr>\n",
       "    <tr>\n",
       "      <th>mean</th>\n",
       "      <td>18.413462</td>\n",
       "      <td>19.591346</td>\n",
       "      <td>19.679487</td>\n",
       "      <td>26.253205</td>\n",
       "      <td>193.605769</td>\n",
       "      <td>-0.035831</td>\n",
       "      <td>-0.009866</td>\n",
       "      <td>41.759120</td>\n",
       "      <td>70.332981</td>\n",
       "      <td>0.824966</td>\n",
       "      <td>-28.157749</td>\n",
       "      <td>-30.171622</td>\n",
       "      <td>5.135769</td>\n",
       "      <td>1758.907051</td>\n",
       "      <td>2.793711</td>\n",
       "      <td>1511.073718</td>\n",
       "    </tr>\n",
       "    <tr>\n",
       "      <th>std</th>\n",
       "      <td>2.060705</td>\n",
       "      <td>0.740745</td>\n",
       "      <td>5.834797</td>\n",
       "      <td>3.168878</td>\n",
       "      <td>67.417224</td>\n",
       "      <td>0.088820</td>\n",
       "      <td>0.056296</td>\n",
       "      <td>22.740101</td>\n",
       "      <td>20.750750</td>\n",
       "      <td>5.623183</td>\n",
       "      <td>111.185928</td>\n",
       "      <td>91.430110</td>\n",
       "      <td>4.960151</td>\n",
       "      <td>349.718565</td>\n",
       "      <td>0.507740</td>\n",
       "      <td>262.120142</td>\n",
       "    </tr>\n",
       "    <tr>\n",
       "      <th>min</th>\n",
       "      <td>10.500000</td>\n",
       "      <td>17.000000</td>\n",
       "      <td>1.000000</td>\n",
       "      <td>20.000000</td>\n",
       "      <td>42.000000</td>\n",
       "      <td>-0.307217</td>\n",
       "      <td>-0.216049</td>\n",
       "      <td>0.250000</td>\n",
       "      <td>30.207143</td>\n",
       "      <td>-20.472930</td>\n",
       "      <td>-377.935115</td>\n",
       "      <td>-335.717437</td>\n",
       "      <td>2.958333</td>\n",
       "      <td>1261.000000</td>\n",
       "      <td>1.482759</td>\n",
       "      <td>861.000000</td>\n",
       "    </tr>\n",
       "    <tr>\n",
       "      <th>25%</th>\n",
       "      <td>17.500000</td>\n",
       "      <td>19.000000</td>\n",
       "      <td>16.000000</td>\n",
       "      <td>24.750000</td>\n",
       "      <td>148.000000</td>\n",
       "      <td>-0.088521</td>\n",
       "      <td>-0.024156</td>\n",
       "      <td>25.612239</td>\n",
       "      <td>55.713131</td>\n",
       "      <td>-0.475567</td>\n",
       "      <td>-67.712967</td>\n",
       "      <td>-77.368209</td>\n",
       "      <td>3.803686</td>\n",
       "      <td>1482.250000</td>\n",
       "      <td>2.400000</td>\n",
       "      <td>1305.250000</td>\n",
       "    </tr>\n",
       "    <tr>\n",
       "      <th>50%</th>\n",
       "      <td>18.500000</td>\n",
       "      <td>19.500000</td>\n",
       "      <td>20.000000</td>\n",
       "      <td>27.000000</td>\n",
       "      <td>185.500000</td>\n",
       "      <td>-0.009032</td>\n",
       "      <td>0.000000</td>\n",
       "      <td>38.051815</td>\n",
       "      <td>68.040616</td>\n",
       "      <td>0.379570</td>\n",
       "      <td>0.000000</td>\n",
       "      <td>-8.616186</td>\n",
       "      <td>4.312500</td>\n",
       "      <td>1721.000000</td>\n",
       "      <td>2.785441</td>\n",
       "      <td>1504.500000</td>\n",
       "    </tr>\n",
       "    <tr>\n",
       "      <th>75%</th>\n",
       "      <td>20.000000</td>\n",
       "      <td>20.000000</td>\n",
       "      <td>23.000000</td>\n",
       "      <td>29.000000</td>\n",
       "      <td>241.250000</td>\n",
       "      <td>0.003399</td>\n",
       "      <td>0.012195</td>\n",
       "      <td>58.258916</td>\n",
       "      <td>83.478163</td>\n",
       "      <td>3.707775</td>\n",
       "      <td>19.958819</td>\n",
       "      <td>9.013127</td>\n",
       "      <td>5.000000</td>\n",
       "      <td>1905.000000</td>\n",
       "      <td>3.186508</td>\n",
       "      <td>1702.000000</td>\n",
       "    </tr>\n",
       "    <tr>\n",
       "      <th>max</th>\n",
       "      <td>24.500000</td>\n",
       "      <td>22.000000</td>\n",
       "      <td>37.000000</td>\n",
       "      <td>36.000000</td>\n",
       "      <td>370.000000</td>\n",
       "      <td>0.316817</td>\n",
       "      <td>0.160000</td>\n",
       "      <td>111.047904</td>\n",
       "      <td>126.441083</td>\n",
       "      <td>18.653125</td>\n",
       "      <td>338.572917</td>\n",
       "      <td>244.151235</td>\n",
       "      <td>61.000000</td>\n",
       "      <td>3281.000000</td>\n",
       "      <td>4.045455</td>\n",
       "      <td>2143.000000</td>\n",
       "    </tr>\n",
       "  </tbody>\n",
       "</table>\n",
       "</div>"
      ],
      "text/plain": [
       "             xbox        ybox       width      height       onpix        xbar  \\\n",
       "count  312.000000  312.000000  312.000000  312.000000  312.000000  312.000000   \n",
       "mean    18.413462   19.591346   19.679487   26.253205  193.605769   -0.035831   \n",
       "std      2.060705    0.740745    5.834797    3.168878   67.417224    0.088820   \n",
       "min     10.500000   17.000000    1.000000   20.000000   42.000000   -0.307217   \n",
       "25%     17.500000   19.000000   16.000000   24.750000  148.000000   -0.088521   \n",
       "50%     18.500000   19.500000   20.000000   27.000000  185.500000   -0.009032   \n",
       "75%     20.000000   20.000000   23.000000   29.000000  241.250000    0.003399   \n",
       "max     24.500000   22.000000   37.000000   36.000000  370.000000    0.316817   \n",
       "\n",
       "             ybar       x2bar       y2bar       xybar      x2ybar      xy2bar  \\\n",
       "count  312.000000  312.000000  312.000000  312.000000  312.000000  312.000000   \n",
       "mean    -0.009866   41.759120   70.332981    0.824966  -28.157749  -30.171622   \n",
       "std      0.056296   22.740101   20.750750    5.623183  111.185928   91.430110   \n",
       "min     -0.216049    0.250000   30.207143  -20.472930 -377.935115 -335.717437   \n",
       "25%     -0.024156   25.612239   55.713131   -0.475567  -67.712967  -77.368209   \n",
       "50%      0.000000   38.051815   68.040616    0.379570    0.000000   -8.616186   \n",
       "75%      0.012195   58.258916   83.478163    3.707775   19.958819    9.013127   \n",
       "max      0.160000  111.047904  126.441083   18.653125  338.572917  244.151235   \n",
       "\n",
       "            xedge       xedgey       yedge       yedgex  \n",
       "count  312.000000   312.000000  312.000000   312.000000  \n",
       "mean     5.135769  1758.907051    2.793711  1511.073718  \n",
       "std      4.960151   349.718565    0.507740   262.120142  \n",
       "min      2.958333  1261.000000    1.482759   861.000000  \n",
       "25%      3.803686  1482.250000    2.400000  1305.250000  \n",
       "50%      4.312500  1721.000000    2.785441  1504.500000  \n",
       "75%      5.000000  1905.000000    3.186508  1702.000000  \n",
       "max     61.000000  3281.000000    4.045455  2143.000000  "
      ]
     },
     "execution_count": 4,
     "metadata": {},
     "output_type": "execute_result"
    }
   ],
   "source": [
    "dataf.describe()"
   ]
  },
  {
   "cell_type": "code",
   "execution_count": 5,
   "id": "df2d5c75",
   "metadata": {},
   "outputs": [],
   "source": [
    "y = dataf.pop('letter')"
   ]
  },
  {
   "cell_type": "code",
   "execution_count": 6,
   "id": "bbbc5f03",
   "metadata": {},
   "outputs": [],
   "source": [
    "def norm(df):\n",
    "    norm_df = df.copy()\n",
    "    columns_to_normalize = df.columns\n",
    "\n",
    "    for column in columns_to_normalize:\n",
    "        min_val = norm_df[column].min()\n",
    "        max_val = norm_df[column].max()\n",
    "    \n",
    "        norm_df[column] = (norm_df[column] - min_val) / (max_val - min_val)\n",
    "    return norm_df"
   ]
  },
  {
   "cell_type": "code",
   "execution_count": 7,
   "id": "cf44f55d",
   "metadata": {},
   "outputs": [],
   "source": [
    "dataf_norm = norm(dataf)"
   ]
  },
  {
   "cell_type": "code",
   "execution_count": 8,
   "id": "ce24aa6b",
   "metadata": {},
   "outputs": [
    {
     "data": {
      "text/plain": [
       "<function matplotlib.pyplot.show(close=None, block=None)>"
      ]
     },
     "execution_count": 8,
     "metadata": {},
     "output_type": "execute_result"
    },
    {
     "data": {
      "image/png": "[encoded data removed]",
      "text/plain": [
       "<Figure size 1200x1000 with 2 Axes>"
      ]
     },
     "metadata": {},
     "output_type": "display_data"
    }
   ],
   "source": [
    "plt.figure(figsize=(12,10))\n",
    "sns.heatmap(dataf_norm.corr(), annot=True, cmap=\"coolwarm\", fmt='.2f')\n",
    "plt.show"
   ]
  },
  {
   "cell_type": "code",
   "execution_count": 9,
   "id": "11fa99fe",
   "metadata": {},
   "outputs": [],
   "source": [
    "x_train,x_test,y_train,y_test=train_test_split(dataf_norm,y,test_size=0.2)"
   ]
  },
  {
   "cell_type": "code",
   "execution_count": 10,
   "id": "302d7e37",
   "metadata": {},
   "outputs": [
    {
     "name": "stdout",
     "output_type": "stream",
     "text": [
      "4\n"
     ]
    }
   ],
   "source": [
    "from sklearn.neighbors import KNeighborsClassifier\n",
    "#looking for optimal k\n",
    "best_k = 1\n",
    "for k in range(2, 10):\n",
    "    test_knn = KNeighborsClassifier(k)\n",
    "    best_knn = KNeighborsClassifier(best_k)\n",
    "    \n",
    "    test_knn.fit(x_train, y_train)\n",
    "    best_knn.fit(x_train, y_train)\n",
    "    \n",
    "    if test_knn.score(x_test, y_test) > best_knn.score(x_test, y_test):\n",
    "        best_k = k\n",
    "        \n",
    "print(best_k)"
   ]
  },
  {
   "cell_type": "code",
   "execution_count": 11,
   "id": "7cd6b83d",
   "metadata": {},
   "outputs": [
    {
     "data": {
      "text/plain": [
       "0.6666666666666666"
      ]
     },
     "execution_count": 11,
     "metadata": {},
     "output_type": "execute_result"
    }
   ],
   "source": [
    "from sklearn.neighbors import KNeighborsClassifier\n",
    "\n",
    "\n",
    "knn_lib=KNeighborsClassifier(best_k)\n",
    "knn_lib.fit(x_train, y_train)\n",
    "knn_lib.score(x_test, y_test)"
   ]
  },
  {
   "cell_type": "code",
   "execution_count": null,
   "id": "3efa987b",
   "metadata": {},
   "outputs": [],
   "source": []
  },
  {
   "cell_type": "code",
   "execution_count": null,
   "id": "2bed8692",
   "metadata": {},
   "outputs": [],
   "source": []
  }
 ],
 "metadata": {
  "kernelspec": {
   "display_name": "Python 3 (ipykernel)",
   "language": "python",
   "name": "python3"
  },
  "language_info": {
   "codemirror_mode": {
    "name": "ipython",
    "version": 3
   },
   "file_extension": ".py",
   "mimetype": "text/x-python",
   "name": "python",
   "nbconvert_exporter": "python",
   "pygments_lexer": "ipython3",
   "version": "3.11.7"
  }
 },
 "nbformat": 4,
 "nbformat_minor": 5
}
